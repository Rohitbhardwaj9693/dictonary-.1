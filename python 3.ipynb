{
 "cells": [
  {
   "cell_type": "code",
   "execution_count": 1,
   "id": "a1aebce6-c4f0-4d47-95de-9c249edbbff7",
   "metadata": {},
   "outputs": [],
   "source": [
    "d={}"
   ]
  },
  {
   "cell_type": "code",
   "execution_count": 3,
   "id": "016140d9-2894-498b-871c-9578f39e03c8",
   "metadata": {},
   "outputs": [
    {
     "data": {
      "text/plain": [
       "dict"
      ]
     },
     "execution_count": 3,
     "metadata": {},
     "output_type": "execute_result"
    }
   ],
   "source": [
    "type(d)"
   ]
  },
  {
   "cell_type": "code",
   "execution_count": 6,
   "id": "12823ee6-3d9b-4db8-ac39-de45c8bee4ea",
   "metadata": {},
   "outputs": [],
   "source": [
    "d1={'key':\"roh\"}"
   ]
  },
  {
   "cell_type": "code",
   "execution_count": 7,
   "id": "f48a221f-e736-4091-91d3-cbffc4407e44",
   "metadata": {},
   "outputs": [
    {
     "data": {
      "text/plain": [
       "{'key': 'roh'}"
      ]
     },
     "execution_count": 7,
     "metadata": {},
     "output_type": "execute_result"
    }
   ],
   "source": [
    "d1"
   ]
  },
  {
   "cell_type": "code",
   "execution_count": 12,
   "id": "88d9e755-9b82-49c4-8d4e-12b9aa9d595a",
   "metadata": {},
   "outputs": [],
   "source": [
    "d1={'key',\"roh\"}"
   ]
  },
  {
   "cell_type": "code",
   "execution_count": 13,
   "id": "626ec70a-3979-43ae-bd31-5ed7d659d5d9",
   "metadata": {},
   "outputs": [
    {
     "data": {
      "text/plain": [
       "{'key', 'roh'}"
      ]
     },
     "execution_count": 13,
     "metadata": {},
     "output_type": "execute_result"
    }
   ],
   "source": [
    "d1"
   ]
  },
  {
   "cell_type": "code",
   "execution_count": 29,
   "id": "dec29245-329c-4af9-b137-11a816248640",
   "metadata": {},
   "outputs": [],
   "source": [
    "d2={'name':\"rohit\",'email': \"rohit@9693\",'umber':9693164593}"
   ]
  },
  {
   "cell_type": "code",
   "execution_count": 30,
   "id": "ccd94bfa-fb61-45a2-92a1-f553bc7efb26",
   "metadata": {},
   "outputs": [
    {
     "data": {
      "text/plain": [
       "{'name': 'rohit', 'email': 'rohit@9693', 'umber': 9693164593}"
      ]
     },
     "execution_count": 30,
     "metadata": {},
     "output_type": "execute_result"
    }
   ],
   "source": [
    "d2"
   ]
  },
  {
   "cell_type": "code",
   "execution_count": 33,
   "id": "ee20cc9a-83e9-45ea-a619-35604055c478",
   "metadata": {},
   "outputs": [],
   "source": [
    "d3={234:\"rohit\",'com':5+6j}"
   ]
  },
  {
   "cell_type": "code",
   "execution_count": 34,
   "id": "06286f25-15bb-4737-9297-de708b7f24df",
   "metadata": {},
   "outputs": [
    {
     "data": {
      "text/plain": [
       "{234: 'rohit', 'com': (5+6j)}"
      ]
     },
     "execution_count": 34,
     "metadata": {},
     "output_type": "execute_result"
    }
   ],
   "source": [
    "d3"
   ]
  },
  {
   "cell_type": "code",
   "execution_count": 35,
   "id": "8bed423f-c1fd-4679-a837-cdae6be4c1a1",
   "metadata": {},
   "outputs": [],
   "source": [
    "d4={'@roh':\"gimail\"}"
   ]
  },
  {
   "cell_type": "code",
   "execution_count": 36,
   "id": "c8c45ca3-218f-4009-9717-1478ab8781d1",
   "metadata": {},
   "outputs": [
    {
     "data": {
      "text/plain": [
       "{'@roh': 'gimail'}"
      ]
     },
     "execution_count": 36,
     "metadata": {},
     "output_type": "execute_result"
    }
   ],
   "source": [
    "d4"
   ]
  },
  {
   "cell_type": "code",
   "execution_count": 40,
   "id": "ff4d8207-1637-4234-8547-7506664d741a",
   "metadata": {},
   "outputs": [
    {
     "ename": "SyntaxError",
     "evalue": "invalid syntax (2393822338.py, line 1)",
     "output_type": "error",
     "traceback": [
      "\u001b[0;36m  Cell \u001b[0;32mIn[40], line 1\u001b[0;36m\u001b[0m\n\u001b[0;31m    d4={@wer:\"roh\",_roh:\"karu\",True:\"rohit\"}\u001b[0m\n\u001b[0m        ^\u001b[0m\n\u001b[0;31mSyntaxError\u001b[0m\u001b[0;31m:\u001b[0m invalid syntax\n"
     ]
    }
   ],
   "source": [
    "d4={@wer:\"roh\",_roh:\"karu\",True:\"rohit\"}"
   ]
  },
  {
   "cell_type": "code",
   "execution_count": 41,
   "id": "7ecb7955-d85f-454f-a9bd-e56147f6d53d",
   "metadata": {},
   "outputs": [],
   "source": [
    "d4={True:\"rohit\"}"
   ]
  },
  {
   "cell_type": "code",
   "execution_count": 42,
   "id": "5d78eabc-2271-4708-8372-0ff9d6d43c87",
   "metadata": {},
   "outputs": [
    {
     "data": {
      "text/plain": [
       "{True: 'rohit'}"
      ]
     },
     "execution_count": 42,
     "metadata": {},
     "output_type": "execute_result"
    }
   ],
   "source": [
    "d4"
   ]
  },
  {
   "cell_type": "code",
   "execution_count": 43,
   "id": "31902aa4-69db-4107-a347-d974afaca8cc",
   "metadata": {},
   "outputs": [
    {
     "data": {
      "text/plain": [
       "{'name': 'rohit', 'email': 'rohit@9693', 'umber': 9693164593}"
      ]
     },
     "execution_count": 43,
     "metadata": {},
     "output_type": "execute_result"
    }
   ],
   "source": [
    "d2"
   ]
  },
  {
   "cell_type": "code",
   "execution_count": 44,
   "id": "a3bc7391-1d49-4814-ab87-13c9e0c50586",
   "metadata": {},
   "outputs": [
    {
     "data": {
      "text/plain": [
       "'rohit'"
      ]
     },
     "execution_count": 44,
     "metadata": {},
     "output_type": "execute_result"
    }
   ],
   "source": [
    "d2['name']"
   ]
  },
  {
   "cell_type": "code",
   "execution_count": 45,
   "id": "a7814434-3acb-4cb6-9d91-121b54750060",
   "metadata": {},
   "outputs": [
    {
     "data": {
      "text/plain": [
       "'rohit@9693'"
      ]
     },
     "execution_count": 45,
     "metadata": {},
     "output_type": "execute_result"
    }
   ],
   "source": [
    "d2['email']"
   ]
  },
  {
   "cell_type": "code",
   "execution_count": 46,
   "id": "b922af1f-6c70-4828-99ee-f7a1d1ab50c7",
   "metadata": {},
   "outputs": [
    {
     "ename": "KeyError",
     "evalue": "1",
     "output_type": "error",
     "traceback": [
      "\u001b[0;31m---------------------------------------------------------------------------\u001b[0m",
      "\u001b[0;31mKeyError\u001b[0m                                  Traceback (most recent call last)",
      "Cell \u001b[0;32mIn[46], line 1\u001b[0m\n\u001b[0;32m----> 1\u001b[0m \u001b[43md2\u001b[49m\u001b[43m[\u001b[49m\u001b[38;5;241;43m1\u001b[39;49m\u001b[43m]\u001b[49m\n",
      "\u001b[0;31mKeyError\u001b[0m: 1"
     ]
    }
   ],
   "source": [
    "d2[1]"
   ]
  },
  {
   "cell_type": "code",
   "execution_count": 47,
   "id": "1d5eb844-f741-4627-a184-a783bbe9c13b",
   "metadata": {},
   "outputs": [
    {
     "data": {
      "text/plain": [
       "'rohit'"
      ]
     },
     "execution_count": 47,
     "metadata": {},
     "output_type": "execute_result"
    }
   ],
   "source": [
    "d4[1]"
   ]
  },
  {
   "cell_type": "code",
   "execution_count": 50,
   "id": "91355b51-e91e-4d5b-a589-fba125c8afe8",
   "metadata": {},
   "outputs": [],
   "source": [
    "d4={'name':\"rohit\",'email':\"rohit@96\",'name':\"rohitbhar\"}"
   ]
  },
  {
   "cell_type": "code",
   "execution_count": 51,
   "id": "7ab4d4bf-b65c-4ad5-8e07-c8295fcc088a",
   "metadata": {},
   "outputs": [
    {
     "data": {
      "text/plain": [
       "{'name': 'rohitbhar', 'email': 'rohit@96'}"
      ]
     },
     "execution_count": 51,
     "metadata": {},
     "output_type": "execute_result"
    }
   ],
   "source": [
    "d4"
   ]
  },
  {
   "cell_type": "code",
   "execution_count": 52,
   "id": "f4e68d4b-3167-48aa-97c1-b398ddc7d6a3",
   "metadata": {},
   "outputs": [
    {
     "data": {
      "text/plain": [
       "'rohitbhar'"
      ]
     },
     "execution_count": 52,
     "metadata": {},
     "output_type": "execute_result"
    }
   ],
   "source": [
    "d4['name']"
   ]
  },
  {
   "cell_type": "code",
   "execution_count": 53,
   "id": "3c218012-ba58-4d71-806c-6d341da6c709",
   "metadata": {},
   "outputs": [
    {
     "data": {
      "text/plain": [
       "'rohitbhar'"
      ]
     },
     "execution_count": 53,
     "metadata": {},
     "output_type": "execute_result"
    }
   ],
   "source": [
    "d4['name']"
   ]
  },
  {
   "cell_type": "code",
   "execution_count": 54,
   "id": "1602a41d-eb84-4703-86c3-b28a6de50b65",
   "metadata": {},
   "outputs": [],
   "source": [
    "d5={'company':\"pwskills\",'course':[\"data science\",\"java\",\"c++\"]}"
   ]
  },
  {
   "cell_type": "code",
   "execution_count": 55,
   "id": "d9e066c4-7200-4485-b3f3-cbb395f259b0",
   "metadata": {},
   "outputs": [
    {
     "data": {
      "text/plain": [
       "{'company': 'pwskills', 'course': ['data science', 'java', 'c++']}"
      ]
     },
     "execution_count": 55,
     "metadata": {},
     "output_type": "execute_result"
    }
   ],
   "source": [
    "d5"
   ]
  },
  {
   "cell_type": "code",
   "execution_count": 56,
   "id": "aa01892f-e412-4010-852a-788f655ad2fb",
   "metadata": {},
   "outputs": [
    {
     "data": {
      "text/plain": [
       "['data science', 'java', 'c++']"
      ]
     },
     "execution_count": 56,
     "metadata": {},
     "output_type": "execute_result"
    }
   ],
   "source": [
    "d5['course']"
   ]
  },
  {
   "cell_type": "code",
   "execution_count": 58,
   "id": "136d4b63-c524-4db7-9145-cab121aceb52",
   "metadata": {},
   "outputs": [
    {
     "data": {
      "text/plain": [
       "'java'"
      ]
     },
     "execution_count": 58,
     "metadata": {},
     "output_type": "execute_result"
    }
   ],
   "source": [
    "d5['course'][1]"
   ]
  },
  {
   "cell_type": "code",
   "execution_count": 59,
   "id": "4c3d298b-8044-4e96-8786-5ee47bdd91ed",
   "metadata": {},
   "outputs": [],
   "source": [
    "d6={'number':[1,2,3,4,21],'assignment':(1,2,3,4,5)}"
   ]
  },
  {
   "cell_type": "code",
   "execution_count": 60,
   "id": "f7fa791c-27a2-4bd4-b1a0-3d769f1539d1",
   "metadata": {},
   "outputs": [
    {
     "data": {
      "text/plain": [
       "{'number': [1, 2, 3, 4, 21], 'assignment': (1, 2, 3, 4, 5)}"
      ]
     },
     "execution_count": 60,
     "metadata": {},
     "output_type": "execute_result"
    }
   ],
   "source": [
    "d6"
   ]
  },
  {
   "cell_type": "code",
   "execution_count": 73,
   "id": "3533d79f-059c-4fcc-838f-e382b5a992f5",
   "metadata": {},
   "outputs": [],
   "source": [
    "d7={'launch_date':{28,12,14},'class_time':{'data_science':8,'java':10,'python':11}}"
   ]
  },
  {
   "cell_type": "code",
   "execution_count": 74,
   "id": "26e39a8a-2107-4f70-a390-4995d7f86615",
   "metadata": {},
   "outputs": [
    {
     "data": {
      "text/plain": [
       "{'launch_date': {12, 14, 28},\n",
       " 'class_time': {'data_science': 8, 'java': 10, 'python': 11}}"
      ]
     },
     "execution_count": 74,
     "metadata": {},
     "output_type": "execute_result"
    }
   ],
   "source": [
    "d7"
   ]
  },
  {
   "cell_type": "code",
   "execution_count": 77,
   "id": "00541a77-5815-46d9-8f3f-ed7bae029a78",
   "metadata": {},
   "outputs": [
    {
     "data": {
      "text/plain": [
       "{'data_science': 8, 'java': 10, 'python': 11}"
      ]
     },
     "execution_count": 77,
     "metadata": {},
     "output_type": "execute_result"
    }
   ],
   "source": [
    "d7['class_time']"
   ]
  },
  {
   "cell_type": "code",
   "execution_count": 78,
   "id": "0e8a5822-ae92-4346-88b4-ea9551460de0",
   "metadata": {},
   "outputs": [],
   "source": [
    "d6={'number':[12,3,45,6,7],'assignment':(1,2,3,4,5,6\n",
    "                                        ),'launch_date':{12,34,12},'class_time':{'wev_dev':5,'dsata_science':8,'java':7}}"
   ]
  },
  {
   "cell_type": "code",
   "execution_count": 79,
   "id": "c4ebd049-875b-4c6a-a0ec-140d6e73067e",
   "metadata": {},
   "outputs": [
    {
     "data": {
      "text/plain": [
       "{'number': [12, 3, 45, 6, 7],\n",
       " 'assignment': (1, 2, 3, 4, 5, 6),\n",
       " 'launch_date': {12, 34},\n",
       " 'class_time': {'wev_dev': 5, 'dsata_science': 8, 'java': 7}}"
      ]
     },
     "execution_count": 79,
     "metadata": {},
     "output_type": "execute_result"
    }
   ],
   "source": [
    "d6"
   ]
  },
  {
   "cell_type": "code",
   "execution_count": 80,
   "id": "0040756f-84f3-4d6a-8388-55a09e13da7c",
   "metadata": {},
   "outputs": [
    {
     "data": {
      "text/plain": [
       "{'wev_dev': 5, 'dsata_science': 8, 'java': 7}"
      ]
     },
     "execution_count": 80,
     "metadata": {},
     "output_type": "execute_result"
    }
   ],
   "source": [
    "d6['class_time']"
   ]
  },
  {
   "cell_type": "code",
   "execution_count": 81,
   "id": "c0889398-6539-4cd5-b751-601f2e2406a1",
   "metadata": {},
   "outputs": [
    {
     "data": {
      "text/plain": [
       "7"
      ]
     },
     "execution_count": 81,
     "metadata": {},
     "output_type": "execute_result"
    }
   ],
   "source": [
    "d6['class_time']['java']"
   ]
  },
  {
   "cell_type": "code",
   "execution_count": 82,
   "id": "db235002-a95c-41cd-8344-44c1b5978f1f",
   "metadata": {},
   "outputs": [
    {
     "data": {
      "text/plain": [
       "45"
      ]
     },
     "execution_count": 82,
     "metadata": {},
     "output_type": "execute_result"
    }
   ],
   "source": [
    "d6['number'][2]"
   ]
  },
  {
   "cell_type": "code",
   "execution_count": 84,
   "id": "d7c1dd90-27a9-43f5-a754-5a1404eb80a1",
   "metadata": {},
   "outputs": [
    {
     "data": {
      "text/plain": [
       "2"
      ]
     },
     "execution_count": 84,
     "metadata": {},
     "output_type": "execute_result"
    }
   ],
   "source": [
    "d6['assignment'][1]"
   ]
  },
  {
   "cell_type": "code",
   "execution_count": 85,
   "id": "0f86ccfe-2d5a-4a04-bb7a-3cac87936aad",
   "metadata": {},
   "outputs": [
    {
     "data": {
      "text/plain": [
       "{'number': [12, 3, 45, 6, 7],\n",
       " 'assignment': (1, 2, 3, 4, 5, 6),\n",
       " 'launch_date': {12, 34},\n",
       " 'class_time': {'wev_dev': 5, 'dsata_science': 8, 'java': 7}}"
      ]
     },
     "execution_count": 85,
     "metadata": {},
     "output_type": "execute_result"
    }
   ],
   "source": [
    "d6"
   ]
  },
  {
   "cell_type": "code",
   "execution_count": 86,
   "id": "3d423d51-a072-4c06-8b4b-062f547f8240",
   "metadata": {},
   "outputs": [],
   "source": [
    "d6['mentor']=['rohit','nikhil','ridhi']"
   ]
  },
  {
   "cell_type": "code",
   "execution_count": 87,
   "id": "b5ab1f7e-2b0e-4e3e-8257-6105f932b3d0",
   "metadata": {},
   "outputs": [
    {
     "data": {
      "text/plain": [
       "{'number': [12, 3, 45, 6, 7],\n",
       " 'assignment': (1, 2, 3, 4, 5, 6),\n",
       " 'launch_date': {12, 34},\n",
       " 'class_time': {'wev_dev': 5, 'dsata_science': 8, 'java': 7},\n",
       " 'mentor': ['rohit', 'nikhil', 'ridhi']}"
      ]
     },
     "execution_count": 87,
     "metadata": {},
     "output_type": "execute_result"
    }
   ],
   "source": [
    "d6"
   ]
  },
  {
   "cell_type": "code",
   "execution_count": 88,
   "id": "b1fdf9aa-9d90-46f7-ace6-3689e7a1af4a",
   "metadata": {},
   "outputs": [],
   "source": [
    "del d6['number']"
   ]
  },
  {
   "cell_type": "code",
   "execution_count": 89,
   "id": "a2b3f85c-ec92-488f-b1d8-2418840947da",
   "metadata": {},
   "outputs": [
    {
     "data": {
      "text/plain": [
       "{'assignment': (1, 2, 3, 4, 5, 6),\n",
       " 'launch_date': {12, 34},\n",
       " 'class_time': {'wev_dev': 5, 'dsata_science': 8, 'java': 7},\n",
       " 'mentor': ['rohit', 'nikhil', 'ridhi']}"
      ]
     },
     "execution_count": 89,
     "metadata": {},
     "output_type": "execute_result"
    }
   ],
   "source": [
    "d6"
   ]
  },
  {
   "cell_type": "code",
   "execution_count": 90,
   "id": "3aa34911-d4dd-4f67-9f1b-5587e899319a",
   "metadata": {},
   "outputs": [
    {
     "data": {
      "text/plain": [
       "dict_keys(['assignment', 'launch_date', 'class_time', 'mentor'])"
      ]
     },
     "execution_count": 90,
     "metadata": {},
     "output_type": "execute_result"
    }
   ],
   "source": [
    "d6.keys()"
   ]
  },
  {
   "cell_type": "code",
   "execution_count": 91,
   "id": "3a78fb51-54f0-4e39-820a-b51bdd373c0e",
   "metadata": {},
   "outputs": [
    {
     "data": {
      "text/plain": [
       "['assignment', 'launch_date', 'class_time', 'mentor']"
      ]
     },
     "execution_count": 91,
     "metadata": {},
     "output_type": "execute_result"
    }
   ],
   "source": [
    "list(d6.keys())"
   ]
  },
  {
   "cell_type": "code",
   "execution_count": 92,
   "id": "5fb8b423-9f89-43aa-ad08-83d367ed5bd9",
   "metadata": {},
   "outputs": [
    {
     "data": {
      "text/plain": [
       "dict_values([(1, 2, 3, 4, 5, 6), {34, 12}, {'wev_dev': 5, 'dsata_science': 8, 'java': 7}, ['rohit', 'nikhil', 'ridhi']])"
      ]
     },
     "execution_count": 92,
     "metadata": {},
     "output_type": "execute_result"
    }
   ],
   "source": [
    "d6.values()"
   ]
  },
  {
   "cell_type": "code",
   "execution_count": 93,
   "id": "efc16a6d-0b21-49cb-819e-7ee7965cb015",
   "metadata": {},
   "outputs": [
    {
     "data": {
      "text/plain": [
       "[(1, 2, 3, 4, 5, 6),\n",
       " {12, 34},\n",
       " {'wev_dev': 5, 'dsata_science': 8, 'java': 7},\n",
       " ['rohit', 'nikhil', 'ridhi']]"
      ]
     },
     "execution_count": 93,
     "metadata": {},
     "output_type": "execute_result"
    }
   ],
   "source": [
    "list(d6.values())"
   ]
  },
  {
   "cell_type": "code",
   "execution_count": 94,
   "id": "6d26aa07-b2ef-4a24-b92f-6b7b66c1b74b",
   "metadata": {},
   "outputs": [
    {
     "data": {
      "text/plain": [
       "dict_items([('assignment', (1, 2, 3, 4, 5, 6)), ('launch_date', {34, 12}), ('class_time', {'wev_dev': 5, 'dsata_science': 8, 'java': 7}), ('mentor', ['rohit', 'nikhil', 'ridhi'])])"
      ]
     },
     "execution_count": 94,
     "metadata": {},
     "output_type": "execute_result"
    }
   ],
   "source": [
    "d6.items()"
   ]
  },
  {
   "cell_type": "code",
   "execution_count": 95,
   "id": "15eaf2a7-8b2c-47e5-8d48-dac81a2a3b30",
   "metadata": {},
   "outputs": [
    {
     "data": {
      "text/plain": [
       "[('assignment', (1, 2, 3, 4, 5, 6)),\n",
       " ('launch_date', {12, 34}),\n",
       " ('class_time', {'wev_dev': 5, 'dsata_science': 8, 'java': 7}),\n",
       " ('mentor', ['rohit', 'nikhil', 'ridhi'])]"
      ]
     },
     "execution_count": 95,
     "metadata": {},
     "output_type": "execute_result"
    }
   ],
   "source": [
    "list(d6.items())"
   ]
  },
  {
   "cell_type": "code",
   "execution_count": 96,
   "id": "b5f7306f-47b9-48bc-abc3-3747f059ff65",
   "metadata": {},
   "outputs": [
    {
     "data": {
      "text/plain": [
       "(1, 2, 3, 4, 5, 6)"
      ]
     },
     "execution_count": 96,
     "metadata": {},
     "output_type": "execute_result"
    }
   ],
   "source": [
    "d6.pop('assignment')"
   ]
  },
  {
   "cell_type": "code",
   "execution_count": 97,
   "id": "32b05496-9d15-4e66-84b5-18b716d2bea2",
   "metadata": {},
   "outputs": [
    {
     "data": {
      "text/plain": [
       "{'launch_date': {12, 34},\n",
       " 'class_time': {'wev_dev': 5, 'dsata_science': 8, 'java': 7},\n",
       " 'mentor': ['rohit', 'nikhil', 'ridhi']}"
      ]
     },
     "execution_count": 97,
     "metadata": {},
     "output_type": "execute_result"
    }
   ],
   "source": [
    "d6"
   ]
  },
  {
   "cell_type": "code",
   "execution_count": 98,
   "id": "b4ece2c0-bea6-4a44-8f15-993c16eb814a",
   "metadata": {},
   "outputs": [
    {
     "ename": "TypeError",
     "evalue": "pop expected at least 1 argument, got 0",
     "output_type": "error",
     "traceback": [
      "\u001b[0;31m---------------------------------------------------------------------------\u001b[0m",
      "\u001b[0;31mTypeError\u001b[0m                                 Traceback (most recent call last)",
      "Cell \u001b[0;32mIn[98], line 1\u001b[0m\n\u001b[0;32m----> 1\u001b[0m \u001b[43md6\u001b[49m\u001b[38;5;241;43m.\u001b[39;49m\u001b[43mpop\u001b[49m\u001b[43m(\u001b[49m\u001b[43m)\u001b[49m\n",
      "\u001b[0;31mTypeError\u001b[0m: pop expected at least 1 argument, got 0"
     ]
    }
   ],
   "source": [
    "d6.pop()"
   ]
  },
  {
   "cell_type": "code",
   "execution_count": 12,
   "id": "68908075-b9f3-41e2-83e4-420ee14dc29c",
   "metadata": {},
   "outputs": [
    {
     "name": "stdout",
     "output_type": "stream",
     "text": [
      "you will be a part of A0 batch\n"
     ]
    }
   ],
   "source": [
    "marks =123\n",
    "if marks >= 80 :\n",
    "    print(\"you will be a part of A0 batch\")\n",
    "elif marks >=60 and marks<80:\n",
    "    print(\"you will be a part of A1 batch\")\n",
    "elif marks >=40 and marks <60:\n",
    "    print(\"you will be a part of A2 batch\")\n",
    "else :\n",
    "    print(\"you waill be a part of A3 batch\")"
   ]
  },
  {
   "cell_type": "code",
   "execution_count": null,
   "id": "338a4f82-f7c7-4ca4-a0ee-7da3d2b35a43",
   "metadata": {},
   "outputs": [],
   "source": [
    "marks = input('eanter your marks')\n",
    "if marks >=80:\n",
    "    print(\"you will be a part of A0 batch\")\n",
    "elif marks >=60 and marks <80:\n",
    "    print(\"you will be a part of A1 batch\")\n",
    "elif marks >=40 and marks <60:\n",
    "    print(\"you will be a part of A2 batch\")\n",
    "else :\n",
    "    print(\"you will be a part of A3 batch\")"
   ]
  },
  {
   "cell_type": "code",
   "execution_count": null,
   "id": "0d853805-8ef0-4441-8124-4dccc0d0e963",
   "metadata": {},
   "outputs": [],
   "source": []
  },
  {
   "cell_type": "code",
   "execution_count": null,
   "id": "c141c34f-b2ae-44e3-8170-5f490f3816e1",
   "metadata": {},
   "outputs": [],
   "source": [
    "marks = input('eanter your marks')\n",
    "if marks >=80:\n",
    "    print(\"you will be a part of A0 batch\")\n",
    "elif marks >=60 and marks <80:\n",
    "    print(\"you will be a part of A1 batch\")\n",
    "elif marks >=40 and marks <60:\n",
    "    print(\"you will be a part of A2 batch\")\n",
    "else :\n",
    "    print(\"you will be a part of A3 batch\")"
   ]
  },
  {
   "cell_type": "code",
   "execution_count": null,
   "id": "bac5a4c3-8367-4ea1-8641-4f7670492d88",
   "metadata": {},
   "outputs": [],
   "source": [
    "e=2"
   ]
  },
  {
   "cell_type": "code",
   "execution_count": null,
   "id": "ab5cbabe-0c51-4799-8623-db992eaf7804",
   "metadata": {},
   "outputs": [],
   "source": [
    "e"
   ]
  },
  {
   "cell_type": "code",
   "execution_count": null,
   "id": "94f8d4c8-4991-4bbd-b702-7b1d37862f03",
   "metadata": {},
   "outputs": [],
   "source": [
    "marks =input('enter)"
   ]
  },
  {
   "cell_type": "code",
   "execution_count": null,
   "id": "415e02d6-7336-4849-a2aa-530b89139417",
   "metadata": {},
   "outputs": [],
   "source": [
    "marks"
   ]
  },
  {
   "cell_type": "code",
   "execution_count": null,
   "id": "89860f70-cd6d-4852-91e9-ae5840b47f7c",
   "metadata": {},
   "outputs": [],
   "source": []
  }
 ],
 "metadata": {
  "kernelspec": {
   "display_name": "Python 3 (ipykernel)",
   "language": "python",
   "name": "python3"
  },
  "language_info": {
   "codemirror_mode": {
    "name": "ipython",
    "version": 3
   },
   "file_extension": ".py",
   "mimetype": "text/x-python",
   "name": "python",
   "nbconvert_exporter": "python",
   "pygments_lexer": "ipython3",
   "version": "3.10.8"
  }
 },
 "nbformat": 4,
 "nbformat_minor": 5
}
